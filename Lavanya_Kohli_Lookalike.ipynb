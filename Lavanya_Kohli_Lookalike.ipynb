{
 "cells": [
  {
   "cell_type": "code",
   "execution_count": 1,
   "id": "13d6e93a-4073-42e0-98ac-e9f70a6da78f",
   "metadata": {},
   "outputs": [],
   "source": [
    "import pandas as pd\n",
    "import numpy as np\n",
    "from sklearn.metrics.pairwise import cosine_similarity\n",
    "from sklearn.preprocessing import StandardScaler"
   ]
  },
  {
   "cell_type": "code",
   "execution_count": 2,
   "id": "be4e623b-0a49-4710-adb2-301366af1695",
   "metadata": {},
   "outputs": [],
   "source": [
    "customers = pd.read_csv('Customers.csv')\n",
    "products = pd.read_csv('Products.csv')\n",
    "transactions = pd.read_csv('Transactions.csv')"
   ]
  },
  {
   "cell_type": "code",
   "execution_count": 3,
   "id": "6d8fb437-e082-4ead-9717-8c29941d7ef8",
   "metadata": {},
   "outputs": [],
   "source": [
    "merged_df = pd.merge(transactions, customers, on='CustomerID', how='inner')\n",
    "merged_df = pd.merge(merged_df, products, on='ProductID', how='inner')"
   ]
  },
  {
   "cell_type": "code",
   "execution_count": 4,
   "id": "429f62f1-be0d-4f9e-b05b-0443e275acb9",
   "metadata": {},
   "outputs": [],
   "source": [
    "#aggregate transaction data for each customer\n",
    "customer_features = merged_df.groupby('CustomerID').agg(\n",
    "    total_spent=('TotalValue', 'sum'),\n",
    "    num_transactions=('TransactionID', 'count'),\n",
    "    avg_transaction_value=('TotalValue', 'mean')\n",
    ").reset_index()"
   ]
  },
  {
   "cell_type": "code",
   "execution_count": 5,
   "id": "778afe87-4ebb-411f-9908-6b27020c08b5",
   "metadata": {},
   "outputs": [],
   "source": [
    "#number of unique categories purchased by each customer\n",
    "category_features = merged_df.groupby('CustomerID')['Category'].nunique().reset_index()\n",
    "category_features.columns = ['CustomerID', 'num_categories']\n",
    "\n",
    "customer_features = pd.merge(customer_features, category_features, on='CustomerID', how='left')"
   ]
  },
  {
   "cell_type": "code",
   "execution_count": 6,
   "id": "80f3beaa-ae40-41c7-88e9-0dcbaab97a06",
   "metadata": {},
   "outputs": [],
   "source": [
    "#normalize the features (for similarity calculations)\n",
    "scaler = StandardScaler()\n",
    "features_to_normalize = ['total_spent', 'num_transactions', 'avg_transaction_value', 'num_categories']\n",
    "customer_features[features_to_normalize] = scaler.fit_transform(customer_features[features_to_normalize])"
   ]
  },
  {
   "cell_type": "code",
   "execution_count": 7,
   "id": "1cc4b73f-49d8-4bb8-b512-72e701ed954d",
   "metadata": {},
   "outputs": [],
   "source": [
    "#calculate cosine similarity between customers based on the features\n",
    "similarity_matrix = cosine_similarity(customer_features.drop('CustomerID', axis=1))\n",
    "similarity_df = pd.DataFrame(similarity_matrix, index=customer_features['CustomerID'], columns=customer_features['CustomerID'])"
   ]
  },
  {
   "cell_type": "code",
   "execution_count": 8,
   "id": "e67a02d0-6f9d-4bc4-a2aa-fa64cba51f09",
   "metadata": {},
   "outputs": [],
   "source": [
    "#lookalikes for the first 20 customers (C0001 to C0020)\n",
    "lookalikes = {}\n",
    "for customer in customer_features['CustomerID'][:20]:  # Considering customers C0001 to C0020\n",
    "    # Sort customers by similarity score in descending order, excluding the customer itself\n",
    "    top_3 = similarity_df[customer].sort_values(ascending=False).iloc[1:4]\n",
    "    lookalikes[customer] = list(zip(top_3.index, top_3.values))"
   ]
  },
  {
   "cell_type": "code",
   "execution_count": 9,
   "id": "23aabc6c-6d36-4286-a881-4c214c6d4394",
   "metadata": {},
   "outputs": [],
   "source": [
    "#lookalike.csv data\n",
    "lookalike_data = []\n",
    "for customer, top_3 in lookalikes.items():\n",
    "    for lookalike, score in top_3:\n",
    "        lookalike_data.append([customer, lookalike, score])\n",
    "\n",
    "lookalike_df = pd.DataFrame(lookalike_data, columns=['CustomerID', 'LookalikeCustomerID', 'SimilarityScore'])"
   ]
  },
  {
   "cell_type": "code",
   "execution_count": 10,
   "id": "c201d63c-f161-47e5-82c6-fe7eaeaffb5c",
   "metadata": {},
   "outputs": [
    {
     "name": "stdout",
     "output_type": "stream",
     "text": [
      "Lookalike model is generated and saved as 'Lookalike.csv'\n"
     ]
    }
   ],
   "source": [
    "#saving the output to Lookalike.csv\n",
    "lookalike_df.to_csv('Lavanya_Kohli_Lookalike.csv', index=False)\n",
    "print(\"Lookalike model is generated and saved as 'Lookalike.csv'\")"
   ]
  },
  {
   "cell_type": "code",
   "execution_count": null,
   "id": "0d469ba6-faf8-4f78-8657-917946512538",
   "metadata": {},
   "outputs": [],
   "source": []
  }
 ],
 "metadata": {
  "kernelspec": {
   "display_name": "Python 3 (ipykernel)",
   "language": "python",
   "name": "python3"
  },
  "language_info": {
   "codemirror_mode": {
    "name": "ipython",
    "version": 3
   },
   "file_extension": ".py",
   "mimetype": "text/x-python",
   "name": "python",
   "nbconvert_exporter": "python",
   "pygments_lexer": "ipython3",
   "version": "3.12.6"
  }
 },
 "nbformat": 4,
 "nbformat_minor": 5
}
